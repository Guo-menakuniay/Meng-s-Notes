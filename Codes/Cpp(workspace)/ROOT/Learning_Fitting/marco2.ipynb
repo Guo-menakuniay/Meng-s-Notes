{
 "cells": [
  {
   "cell_type": "code",
   "execution_count": 30,
   "id": "4a5f7fbc",
   "metadata": {},
   "outputs": [],
   "source": [
    "#include \"TCanvas.h\"\n",
    "#include \"TFrame.h\"\n",
    "#include \"TBenchmark.h\"\n",
    "#include \"TString.h\"\n",
    "#include \"TF1.h\"\n",
    "#include \"TH1.h\"\n",
    "#include \"TFile.h\"\n",
    "#include \"TROOT.h\"\n",
    "#include \"TError.h\"\n",
    "#include \"TInterpreter.h\"\n",
    "#include \"TSystem.h\"\n",
    "#include \"TPaveText.h\""
   ]
  },
  {
   "cell_type": "code",
   "execution_count": 31,
   "id": "45026920",
   "metadata": {},
   "outputs": [],
   "source": [
    "TCanvas *c1 = new TCanvas(\"c1_fit1\",\"The Fit Canvas\",200,10,700,500);\n",
    "c1->SetGridx();\n",
    "c1->SetGridy();\n",
    "c1->GetFrame()->SetFillColor(21);\n",
    "c1->GetFrame()->SetBorderMode(-1);\n",
    "c1->GetFrame()->SetBorderSize(5);\n",
    "\n",
    "gBenchmark->Start(\"fit1\");"
   ]
  },
  {
   "cell_type": "code",
   "execution_count": 32,
   "id": "7b7abaf2",
   "metadata": {},
   "outputs": [
    {
     "name": "stdout",
     "output_type": "stream",
     "text": [
      "fillrandom: Real Time =   0.10 seconds Cpu Time =   0.07 seconds\n"
     ]
    }
   ],
   "source": [
    "TString dir = gROOT->GetTutorialDir();\n",
    "dir.Append(\"/fit/\");\n",
    "TFile *file = nullptr;\n",
    "if (!gSystem->AccessPathName(\"fillrandom.root\")) {\n",
    "   // file exists\n",
    "   file = TFile::Open(\"fillrandom.root\");\n",
    "} else {\n",
    "   gROOT->ProcessLine(Form(\".x %s../hist/fillrandom.C(0)\",dir.Data()));\n",
    "   file = TFile::Open(\"fillrandom.root\");\n",
    "   if (!file) return;\n",
    "}"
   ]
  },
  {
   "cell_type": "code",
   "execution_count": 33,
   "id": "27b7158f",
   "metadata": {},
   "outputs": [
    {
     "name": "stdout",
     "output_type": "stream",
     "text": [
      "TFile**\t\tfillrandom.root\t\n",
      " TFile*\t\tfillrandom.root\t\n",
      "  KEY: TFormula\tform1;1\tabs(sin(x)/x)\n",
      "  KEY: TF1\tsqroot;1\tx*gaus(0) + [3]*form1\n",
      "  KEY: TH1F\th1f;1\tTest random numbers\n"
     ]
    }
   ],
   "source": [
    "file->ls()"
   ]
  },
  {
   "cell_type": "code",
   "execution_count": 34,
   "id": "cb482076",
   "metadata": {},
   "outputs": [
    {
     "name": "stdout",
     "output_type": "stream",
     "text": [
      "(TF1 *) nullptr\n"
     ]
    }
   ],
   "source": [
    "TF1 *sqroot = nullptr"
   ]
  },
  {
   "cell_type": "code",
   "execution_count": 35,
   "id": "1ebbc5d5",
   "metadata": {},
   "outputs": [],
   "source": [
    "file->GetObject(\"sqroot\",sqroot)"
   ]
  },
  {
   "cell_type": "code",
   "execution_count": 36,
   "id": "9caea6b7",
   "metadata": {},
   "outputs": [
    {
     "name": "stdout",
     "output_type": "stream",
     "text": [
      "Formula based function:     sqroot \n",
      "               sqroot : x*gaus(0) + [3]*form1 Ndim= 1, Npar= 4, Number= 0 \n",
      " Formula expression: \n",
      "\tx*[p0]*exp(-0.5*((x-[p1])/[p2])*((x-[p1])/[p2]))+[p3]*(abs(sin(x)/x)) \n"
     ]
    }
   ],
   "source": [
    "sqroot->Print()"
   ]
  },
  {
   "cell_type": "code",
   "execution_count": 40,
   "id": "a9fd7b72",
   "metadata": {},
   "outputs": [
    {
     "name": "stdout",
     "output_type": "stream",
     "text": [
      "TH1.Print Name  = h1f, Entries= 10000, Total sum= 10000\n"
     ]
    }
   ],
   "source": [
    "TH1F* h1f = 0;\n",
    "file->GetObject(\"h1f\",h1f);\n",
    "h1f->Print()"
   ]
  },
  {
   "cell_type": "code",
   "execution_count": 48,
   "id": "70938d23",
   "metadata": {},
   "outputs": [
    {
     "name": "stdout",
     "output_type": "stream",
     "text": [
      " FCN=198.935 FROM MIGRAD    STATUS=CONVERGED     148 CALLS         149 TOTAL\n",
      "                     EDM=2.98567e-07    STRATEGY= 1      ERROR MATRIX ACCURATE \n",
      "  EXT PARAMETER                                   STEP         FIRST   \n",
      "  NO.   NAME      VALUE            ERROR          SIZE      DERIVATIVE \n",
      "   1  p0           3.31658e+01   5.45703e-01   3.00376e-03  -1.11540e-03\n",
      "   2  p1           4.00667e+00   1.65304e-02   9.48491e-05  -3.06425e-02\n",
      "   3  p2           9.84663e-01   1.28238e-02   6.05976e-05  -3.04244e-02\n",
      "   4  p3           6.34464e+01   1.33233e+00   8.77483e-03  -3.96109e-04\n",
      "(TFitResultPtr) <nullptr TFitResult>\n"
     ]
    }
   ],
   "source": [
    "h1f->Fit(\"sqroot\")"
   ]
  },
  {
   "cell_type": "code",
   "execution_count": 50,
   "id": "439a46d0",
   "metadata": {},
   "outputs": [],
   "source": [
    "TPaveText * fitlabel = new TPaveText(0.6,0.4,0.9,0.75,\"NDC\");\n",
    "fitlabel->SetTextAlign(12);\n",
    "fitlabel->SetFillColor(42);\n",
    "fitlabel->ReadFile(Form(\"%sfit1_C.txt\",dir.Data()));"
   ]
  },
  {
   "cell_type": "code",
   "execution_count": 51,
   "id": "57351e42",
   "metadata": {},
   "outputs": [],
   "source": [
    "fitlabel->Draw()"
   ]
  },
  {
   "cell_type": "code",
   "execution_count": 52,
   "id": "30980eb8",
   "metadata": {},
   "outputs": [],
   "source": [
    "c1->Update()"
   ]
  },
  {
   "cell_type": "code",
   "execution_count": 53,
   "id": "a0e90fb1",
   "metadata": {},
   "outputs": [
    {
     "name": "stdout",
     "output_type": "stream",
     "text": [
      "fit1      : Real Time = 315.51 seconds Cpu Time =   1.36 seconds\n"
     ]
    }
   ],
   "source": [
    "gBenchmark->Show(\"fit1\")"
   ]
  },
  {
   "cell_type": "code",
   "execution_count": 54,
   "id": "dc4bf920",
   "metadata": {
    "scrolled": false
   },
   "outputs": [
    {
     "data": {
      "image/png": "[encoded data removed]",
      "text/plain": [
       "<IPython.core.display.Image object>"
      ]
     },
     "metadata": {},
     "output_type": "display_data"
    }
   ],
   "source": [
    "gROOT->GetListOfCanvases()->Draw()"
   ]
  },
  {
   "cell_type": "code",
   "execution_count": 1,
   "id": "c084a146",
   "metadata": {},
   "outputs": [],
   "source": [
    "#include \"TF2.h\"\n",
    "#include \"TH2.h\"\n",
    "#include \"TMath.h\"\n",
    "#include \"TFile.h\""
   ]
  },
  {
   "cell_type": "code",
   "execution_count": 2,
   "id": "298d9f9e",
   "metadata": {},
   "outputs": [],
   "source": [
    "TH1D* background;"
   ]
  },
  {
   "cell_type": "code",
   "execution_count": 3,
   "id": "ea6d1272",
   "metadata": {},
   "outputs": [],
   "source": [
    "void histgen() {\n",
    "   //generate the histogram background and save it to a file\n",
    "   //background taken as linearly decreasing\n",
    "   TF1 f1(\"f1\",\"pol1\",0,10);\n",
    "   f1.SetParameters(5,-0.5);\n",
    "   TH1F h(\"background\",\"linear background\",100,0,10); //(*name, *title, *range_low, *range_high)\n",
    "   h.FillRandom(\"f1\",10000);\n",
    "   TFile f(\"background.root\",\"recreate\");\n",
    "   //save the background histogram\n",
    "   h.Write();\n",
    "   //superimpose a Gaussian signal to the background histogram\n",
    "   TF1 f2(\"f2\",\"gaus\",0,10);\n",
    "   f2.SetParameters(1,6,0.5);\n",
    "   h.FillRandom(\"f2\",2000);\n",
    "   h.SetName(\"result\");\n",
    "   h.Write();\n",
    "}"
   ]
  },
  {
   "cell_type": "code",
   "execution_count": 4,
   "id": "dcf0ff5f",
   "metadata": {},
   "outputs": [],
   "source": [
    "double ftotal(double *x, double *par) {\n",
    "   double xx = x[0];\n",
    "   int bin = background->GetXaxis()->FindBin(xx);\n",
    "   double br = par[3]*background->GetBinContent(bin);\n",
    "   double arg = (xx-par[1])/par[2];\n",
    "   double sr = par[0]*TMath::Exp(-0.5*arg*arg);\n",
    "   return sr + br;\n",
    "}"
   ]
  },
  {
   "cell_type": "code",
   "execution_count": 5,
   "id": "f77b0cf3",
   "metadata": {},
   "outputs": [
    {
     "name": "stdout",
     "output_type": "stream",
     "text": [
      "(TFile *) 0x129215b60\n"
     ]
    }
   ],
   "source": [
    "TFile *f= new TFile(\"background.root\")"
   ]
  },
  {
   "cell_type": "code",
   "execution_count": 6,
   "id": "351ee0af",
   "metadata": {},
   "outputs": [
    {
     "name": "stdout",
     "output_type": "stream",
     "text": [
      "TFile**\t\tbackground.root\t\n",
      " TFile*\t\tbackground.root\t\n",
      "  KEY: TH1F\tbackground;1\tlinear background\n",
      "  KEY: TH1F\tresult;1\tlinear background\n"
     ]
    }
   ],
   "source": [
    "f->ls()"
   ]
  },
  {
   "cell_type": "code",
   "execution_count": 7,
   "id": "e2f864db",
   "metadata": {},
   "outputs": [],
   "source": [
    "TH1F* background=0;\n",
    "f->GetObject(\"background\",background);\n",
    "TH1F* result=0;\n",
    "f->GetObject(\"result\",result);\n",
    "TF1 *ftot = new TF1(\"ftot\",ftotal,0,10,4);"
   ]
  },
  {
   "cell_type": "code",
   "execution_count": 8,
   "id": "3bb471c7",
   "metadata": {},
   "outputs": [],
   "source": [
    "double norm2 = result->GetMaximum();"
   ]
  },
  {
   "cell_type": "code",
   "execution_count": 9,
   "id": "a56bb0b7",
   "metadata": {},
   "outputs": [],
   "source": [
    "ftot->SetParameters(0.5*norm2,5,.2,norm2) ;   \n",
    "ftot->SetParLimits(0,.3*norm2,norm2);"
   ]
  },
  {
   "cell_type": "code",
   "execution_count": null,
   "id": "f9d3d3b7",
   "metadata": {},
   "outputs": [],
   "source": [
    "result->Fit(\"ftot\",\"b\")"
   ]
  },
  {
   "cell_type": "code",
   "execution_count": null,
   "id": "9c1ad02b",
   "metadata": {},
   "outputs": [],
   "source": []
  }
 ],
 "metadata": {
  "kernelspec": {
   "display_name": "ROOT C++",
   "language": "c++",
   "name": "root"
  },
  "language_info": {
   "codemirror_mode": "text/x-c++src",
   "file_extension": ".C",
   "mimetype": " text/x-c++src",
   "name": "c++"
  }
 },
 "nbformat": 4,
 "nbformat_minor": 5
}
