{
 "cells": [
  {
   "cell_type": "code",
   "execution_count": 1,
   "id": "c3f02577",
   "metadata": {},
   "outputs": [
    {
     "name": "stdout",
     "output_type": "stream",
     "text": [
      " FCN=30.6776 FROM MIGRAD    STATUS=CONVERGED     133 CALLS         134 TOTAL\n",
      "                     EDM=1.20474e-09    STRATEGY= 1      ERROR MATRIX ACCURATE \n",
      "  EXT PARAMETER                                   STEP         FIRST   \n",
      "  NO.   NAME      VALUE            ERROR          SIZE      DERIVATIVE \n",
      "   1  p0           7.84920e+02   1.55126e+01   1.35955e-04  -3.29837e-04\n",
      "   2  p1           3.09698e+00   1.81397e-04   4.98618e-06   2.37628e-02\n",
      "   3  p2           1.02774e-02   1.66304e-04   3.46194e-07  -7.15206e-02\n",
      "   4  p3           9.82821e+01   1.66405e+00   4.35310e-04  -1.19014e-04\n"
     ]
    },
    {
     "name": "stderr",
     "output_type": "stream",
     "text": [
      "Info in <TCanvas::MakeDefCanvas>:  created default TCanvas with name c1\n"
     ]
    }
   ],
   "source": [
    "#include \"TCanvas.h\"\n",
    "#include \"TFrame.h\"\n",
    "#include \"TBenchmark.h\"\n",
    "#include \"TString.h\"\n",
    "#include \"TF1.h\"\n",
    "#include \"TH1.h\"\n",
    "#include \"TFile.h\"\n",
    "#include \"TROOT.h\"\n",
    "#include \"TError.h\"\n",
    "#include \"TInterpreter.h\"\n",
    "#include \"TSystem.h\"\n",
    "#include \"TPaveText.h\"\n",
    "TFile *jpdata = new TFile(\"~/Downloads/Jpsi_mass.root\");\n",
    "TH1D *jpsi_mass = (TH1D*) jpdata->Get(\"jpsi_mass\");\n",
    "TF1 *usrfunc =new TF1(\"usrfunc\",\"gaus(0)+pol0(3)\",3,3.2);\n",
    "usrfunc->SetParameters(600,3.1,0.015,98);\n",
    "usrfunc->SetParLimits(0,500,1000);\n",
    "usrfunc->SetParLimits(1,3.0,3.2);\n",
    "usrfunc->SetParLimits(2,-1,1);\n",
    "usrfunc->SetParLimits(3,90,110);\n",
    "jpsi_mass->Fit(\"usrfunc\");\n",
    "jpsi_mass->Draw()"
   ]
  },
  {
   "cell_type": "code",
   "execution_count": 2,
   "id": "b75f6dd0",
   "metadata": {},
   "outputs": [
    {
     "name": "stdout",
     "output_type": "stream",
     "text": [
      "(TFile *) 0x1502bd600\n"
     ]
    }
   ],
   "source": [
    "jpsi_mass->GetXaxis()->SetTitle"
   ]
  },
  {
   "cell_type": "code",
   "execution_count": 3,
   "id": "c6e406d7",
   "metadata": {},
   "outputs": [
    {
     "name": "stdout",
     "output_type": "stream",
     "text": [
      "TFile**\t\t/Users/menakuniay/Downloads/Jpsi_mass.root\t\n",
      " TFile*\t\t/Users/menakuniay/Downloads/Jpsi_mass.root\t\n",
      "  KEY: TH1D\tjpsi_mass;1\tJ/psi mass distribution\n"
     ]
    }
   ],
   "source": [
    "jpdata->ls()"
   ]
  },
  {
   "cell_type": "code",
   "execution_count": 4,
   "id": "dae567a8",
   "metadata": {},
   "outputs": [
    {
     "name": "stdout",
     "output_type": "stream",
     "text": [
      "(TH1D *) 0x134228650\n"
     ]
    }
   ],
   "source": []
  },
  {
   "cell_type": "code",
   "execution_count": 5,
   "id": "551ac5b4",
   "metadata": {},
   "outputs": [
    {
     "name": "stdout",
     "output_type": "stream",
     "text": [
      "Unknown function: gaus(0)+pol0(3)\n",
      "(TFitResultPtr) <nullptr TFitResult>\n"
     ]
    }
   ],
   "source": [
    "jpsi_mass->Fit(\"gaus(0)+pol0(3)\")"
   ]
  },
  {
   "cell_type": "code",
   "execution_count": 7,
   "id": "a7270ea3",
   "metadata": {},
   "outputs": [
    {
     "name": "stdout",
     "output_type": "stream",
     "text": [
      " FCN=30.6776 FROM MIGRAD    STATUS=CONVERGED     133 CALLS         134 TOTAL\n",
      "                     EDM=1.20474e-09    STRATEGY= 1      ERROR MATRIX ACCURATE \n",
      "  EXT PARAMETER                                   STEP         FIRST   \n",
      "  NO.   NAME      VALUE            ERROR          SIZE      DERIVATIVE \n",
      "   1  p0           7.84920e+02   1.55126e+01   1.35955e-04  -3.29837e-04\n",
      "   2  p1           3.09698e+00   1.81397e-04   4.98618e-06   2.37628e-02\n",
      "   3  p2           1.02774e-02   1.66304e-04   3.46194e-07  -7.15206e-02\n",
      "   4  p3           9.82821e+01   1.66405e+00   4.35310e-04  -1.19014e-04\n"
     ]
    }
   ],
   "source": []
  },
  {
   "cell_type": "code",
   "execution_count": null,
   "id": "792ac16f",
   "metadata": {},
   "outputs": [],
   "source": []
  },
  {
   "cell_type": "code",
   "execution_count": null,
   "id": "fefe9ca7",
   "metadata": {},
   "outputs": [],
   "source": []
  }
 ],
 "metadata": {
  "kernelspec": {
   "display_name": "ROOT C++",
   "language": "c++",
   "name": "root"
  },
  "language_info": {
   "codemirror_mode": "text/x-c++src",
   "file_extension": ".C",
   "mimetype": " text/x-c++src",
   "name": "c++"
  }
 },
 "nbformat": 4,
 "nbformat_minor": 5
}
