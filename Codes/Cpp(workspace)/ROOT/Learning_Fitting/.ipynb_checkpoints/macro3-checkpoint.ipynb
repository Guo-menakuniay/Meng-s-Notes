{
 "cells": [
  {
   "cell_type": "code",
   "execution_count": 4,
   "id": "c6243c42",
   "metadata": {},
   "outputs": [],
   "source": [
    "void example(){\n",
    "    const int NEntry=10000;\n",
    "    TH1F *h1 = new TH1F(\"h1\",\"A simple histo\",100,0,1);\n",
    "    for (int i=0;i<NEntry;i++) h1->Fill( gRandom->Uniform());\n",
    "    h1->GetYaxis()->SetRangeUser(0,150);\n",
    "    h1->GetXaxis()->SetTitle(\"x\");\n",
    "    h1->Draw();\n",
    "}"
   ]
  },
  {
   "cell_type": "code",
   "execution_count": 1,
   "id": "922c361f",
   "metadata": {},
   "outputs": [
    {
     "name": "stderr",
     "output_type": "stream",
     "text": [
      "Info in <TCanvas::MakeDefCanvas>:  created default TCanvas with name c1\n"
     ]
    }
   ],
   "source": [
    "const int NEntry=10000;\n",
    "TH1F *h1 = new TH1F(\"h1\",\"A simple histo\",100,0,1);\n",
    "for (int i=0;i<NEntry;i++) h1->Fill( gRandom->Uniform());\n",
    "h1->GetYaxis()->SetRangeUser(0,150);\n",
    "h1->GetXaxis()->SetTitle(\"x\");\n",
    "h1->Draw()"
   ]
  },
  {
   "cell_type": "code",
   "execution_count": 8,
   "id": "9a8fca63",
   "metadata": {},
   "outputs": [],
   "source": [
    "TF1 f(\"temp\",\"sin(x)/(x)\",0,1);\n",
    "f.Draw()"
   ]
  },
  {
   "cell_type": "code",
   "execution_count": 6,
   "id": "37aef179",
   "metadata": {},
   "outputs": [],
   "source": [
    "f.Draw()"
   ]
  },
  {
   "cell_type": "code",
   "execution_count": null,
   "id": "6d2f8b7b",
   "metadata": {},
   "outputs": [],
   "source": []
  }
 ],
 "metadata": {
  "kernelspec": {
   "display_name": "ROOT C++",
   "language": "c++",
   "name": "root"
  },
  "language_info": {
   "codemirror_mode": "text/x-c++src",
   "file_extension": ".C",
   "mimetype": " text/x-c++src",
   "name": "c++"
  }
 },
 "nbformat": 4,
 "nbformat_minor": 5
}
