{
 "cells": [
  {
   "cell_type": "code",
   "execution_count": 1,
   "id": "c6243c42",
   "metadata": {},
   "outputs": [],
   "source": [
    "void example(){\n",
    "    const int NEntry=10000;\n",
    "    TH1F *h1 = new TH1F(\"h1\",\"A simple histo\",100,0,1);\n",
    "    for (int i=0;i<NEntry;i++) h1->Fill( gRandom->Uniform());\n",
    "    h1->GetYaxis()->SetRangeUser(0,150);\n",
    "    h1->GetXaxis()->SetTitle(\"x\");\n",
    "    h1->Draw();\n",
    "}"
   ]
  },
  {
   "cell_type": "code",
   "execution_count": 7,
   "id": "922c361f",
   "metadata": {},
   "outputs": [
    {
     "name": "stderr",
     "output_type": "stream",
     "text": [
      "Warning in <TROOT::Append>: Replacing existing TH1: h1 (Potential memory leak).\n"
     ]
    }
   ],
   "source": [
    "const int NEntry=10000;\n",
    "TH1F *h1 = new TH1F(\"h1\",\"A simple histo\",100,0,1);\n",
    "for (int i=0;i<NEntry;i++) h1->Fill( gRandom->Uniform());\n",
    "h1->GetYaxis()->SetRangeUser(0,150);\n",
    "h1->GetXaxis()->SetTitle(\"x\");\n",
    "h1->Draw()"
   ]
  },
  {
   "cell_type": "code",
   "execution_count": null,
   "id": "9a8fca63",
   "metadata": {},
   "outputs": [
    {
     "ename": "",
     "evalue": "",
     "output_type": "error",
     "traceback": [
      "\u001b[1;31mFailed to start the Kernel. \n",
      "The 'python3104jvsc74a57bd0019ecf6f8ca3bcb19487056010417698ed2c807cc776e1f6e4bb562865767b02' kernel is not available. Please pick another suitable kernel instead, or install that kernel. \n",
      "View Jupyter <a href='command:jupyter.viewOutput'>log</a> for further details."
     ]
    }
   ],
   "source": [
    "TF1 f(\"temp\",\"sin(x)/(x)\",0,1);\n",
    "\n",
    "f.Draw()"
   ]
  },
  {
   "cell_type": "code",
   "execution_count": 9,
   "id": "37aef179",
   "metadata": {},
   "outputs": [],
   "source": [
    "f.Draw()"
   ]
  },
  {
   "cell_type": "code",
   "execution_count": 16,
   "id": "6d2f8b7b",
   "metadata": {},
   "outputs": [
    {
     "name": "stderr",
     "output_type": "stream",
     "text": [
      "\u001b[1minput_line_71:2:2: \u001b[0m\u001b[0;1;31merror: \u001b[0m\u001b[1munknown type name 'import'\u001b[0m\n",
      " import ROOT\n",
      "\u001b[0;1;32m ^\n",
      "\u001b[0m\u001b[1minput_line_71:2:13: \u001b[0m\u001b[0;1;31merror: \u001b[0m\u001b[1mexpected ';' at end of declaration\u001b[0m\n",
      " import ROOT\n",
      "\u001b[0;1;32m            ^\n",
      "\u001b[0m\u001b[0;32m            ;\n",
      "\u001b[0m\u001b[1minput_line_71:14:3: \u001b[0m\u001b[0;1;31merror: \u001b[0m\u001b[1minvalid preprocessing directive\u001b[0m\n",
      "# Important line\n",
      "\u001b[0;1;32m  ^\n",
      "\u001b[0m"
     ]
    }
   ],
   "source": [
    " "
   ]
  },
  {
   "cell_type": "code",
   "execution_count": null,
   "id": "f342ebc8",
   "metadata": {},
   "outputs": [],
   "source": []
  }
 ],
 "metadata": {
  "kernelspec": {
   "display_name": "ROOT C++",
   "language": "c++",
   "name": "root"
  },
  "language_info": {
   "codemirror_mode": "text/x-c++src",
   "file_extension": ".C",
   "mimetype": " text/x-c++src",
   "name": "c++"
  }
 },
 "nbformat": 4,
 "nbformat_minor": 5
}
