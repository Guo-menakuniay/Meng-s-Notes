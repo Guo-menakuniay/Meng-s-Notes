{
 "cells": [
  {
   "cell_type": "code",
   "execution_count": 15,
   "metadata": {},
   "outputs": [
    {
     "name": "stdout",
     "output_type": "stream",
     "text": [
      "(int) 2\n"
     ]
    }
   ],
   "source": [
    "1+1"
   ]
  },
  {
   "cell_type": "code",
   "execution_count": 9,
   "metadata": {},
   "outputs": [
    {
     "name": "stdout",
     "output_type": "stream",
     "text": [
      "(TFile *) nullptr\n"
     ]
    }
   ],
   "source": [
    "TFile *file = nullptr"
   ]
  },
  {
   "cell_type": "code",
   "execution_count": 44,
   "metadata": {},
   "outputs": [
    {
     "name": "stdout",
     "output_type": "stream",
     "text": [
      "(TFile *) 0x12a64f600\n"
     ]
    }
   ],
   "source": [
    "file = TFile::Open(\"/Users/menakuniay/Downloads/Jpsi_mass.root\")"
   ]
  },
  {
   "cell_type": "code",
   "execution_count": 11,
   "metadata": {},
   "outputs": [
    {
     "name": "stdout",
     "output_type": "stream",
     "text": [
      "TFile**\t\t/Users/menakuniay/Downloads/Jpsi_mass.root\t\n",
      " TFile*\t\t/Users/menakuniay/Downloads/Jpsi_mass.root\t\n",
      "  KEY: TH1D\tjpsi_mass;1\tJ/psi mass distribution\n"
     ]
    }
   ],
   "source": [
    "file->ls()"
   ]
  },
  {
   "cell_type": "code",
   "execution_count": 42,
   "metadata": {},
   "outputs": [
    {
     "name": "stdout",
     "output_type": "stream",
     "text": [
      "(TH1D *) nullptr\n"
     ]
    }
   ],
   "source": [
    "TH1D* jpsi_mass = 0"
   ]
  },
  {
   "cell_type": "code",
   "execution_count": 43,
   "metadata": {},
   "outputs": [
    {
     "name": "stdout",
     "output_type": "stream",
     "text": [
      "TFile**\t\tfillrandom.root\t\n",
      " TFile*\t\tfillrandom.root\t\n",
      "  OBJ: TH1F\th1f\tTest random numbers : 0 at: 0x12a64e1f0\n",
      "  KEY: TFormula\tform1;1\tabs(sin(x)/x)\n",
      "  KEY: TF1\tsqroot;1\tx*gaus(0) + [3]*form1\n",
      "  KEY: TH1F\th1f;1\tTest random numbers\n"
     ]
    }
   ],
   "source": [
    "file->ls()"
   ]
  },
  {
   "cell_type": "code",
   "execution_count": 45,
   "metadata": {},
   "outputs": [],
   "source": [
    "file->GetObject(\"jpsi_mass\",jpsi_mass)"
   ]
  },
  {
   "cell_type": "code",
   "execution_count": 46,
   "metadata": {},
   "outputs": [
    {
     "name": "stdout",
     "output_type": "stream",
     "text": [
      "(TH1D *) 0x13a61da40\n"
     ]
    }
   ],
   "source": [
    "jpsi_mass"
   ]
  },
  {
   "cell_type": "code",
   "execution_count": 27,
   "metadata": {},
   "outputs": [
    {
     "name": "stdout",
     "output_type": "stream",
     "text": [
      "(TH1D **) 0x13a618c40\n"
     ]
    }
   ],
   "source": [
    "jpsi_mass"
   ]
  },
  {
   "cell_type": "code",
   "execution_count": 29,
   "metadata": {},
   "outputs": [
    {
     "name": "stderr",
     "output_type": "stream",
     "text": [
      "\u001b[1minput_line_102:2:11: \u001b[0m\u001b[0;1;31merror: \u001b[0m\u001b[1mmember reference base type 'TH1D *' is not a structure or union\u001b[0m\n",
      " jpsi_mass->ls()\n",
      "\u001b[0;1;32m ~~~~~~~~~^ ~~\n",
      "\u001b[0m"
     ]
    }
   ],
   "source": [
    "jpsi_mass->ls()"
   ]
  },
  {
   "cell_type": "code",
   "execution_count": null,
   "metadata": {},
   "outputs": [
    {
     "ename": "",
     "evalue": "",
     "output_type": "error",
     "traceback": [
      "\u001b[1;31mFailed to start the Kernel. \n",
      "The 'python3104jvsc74a57bd0019ecf6f8ca3bcb19487056010417698ed2c807cc776e1f6e4bb562865767b02' kernel is not available. Please pick another suitable kernel instead, or install that kernel. \n",
      "View Jupyter <a href='command:jupyter.viewOutput'>log</a> for further details."
     ]
    }
   ],
   "source": [
    "jpsi_mass->Print()"
   ]
  },
  {
   "cell_type": "code",
   "execution_count": 1,
   "metadata": {},
   "outputs": [
    {
     "name": "stderr",
     "output_type": "stream",
     "text": [
      "Info in <TCanvas::MakeDefCanvas>:  created default TCanvas with name c1\n"
     ]
    }
   ],
   "source": [
    "TF1 f(\"temp\",\"sin(x)/(x)\",0,1);\n",
    "f.Draw()"
   ]
  },
  {
   "cell_type": "code",
   "execution_count": null,
   "metadata": {
    "vscode": {
     "languageId": "plaintext"
    }
   },
   "outputs": [],
   "source": []
  }
 ],
 "metadata": {
  "kernelspec": {
   "display_name": "ROOT C++",
   "language": "c++",
   "name": "root"
  },
  "language_info": {
   "codemirror_mode": "text/x-c++src",
   "file_extension": ".C",
   "mimetype": " text/x-c++src",
   "name": "c++"
  },
  "orig_nbformat": 4
 },
 "nbformat": 4,
 "nbformat_minor": 2
}
